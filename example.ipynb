{
 "cells": [
  {
   "cell_type": "markdown",
   "id": "c4b60e05-e5d3-40e6-9382-c315d88c6ef4",
   "metadata": {},
   "source": [
    "# Demonstration of fitting models to ROC data"
   ]
  },
  {
   "cell_type": "code",
   "execution_count": 1,
   "id": "c77064b4-0ddc-4171-add3-22e5009759e4",
   "metadata": {},
   "outputs": [],
   "source": [
    "import numpy as np\n",
    "import matplotlib.pyplot as plt\n",
    "from models import HighThreshold, SignalDetection, DualProcess\n",
    "from utils import plot_roc"
   ]
  },
  {
   "cell_type": "markdown",
   "id": "5978ea37-7515-411b-a27e-0b7a1e4c3852",
   "metadata": {},
   "source": [
    "## 1. Define the input data\n",
    "This should be a set of response counts for each criterion level, for signal and for noise trials. The order matters and should range from the strongest \"signal\" response to the strongest \"noise\" response. In the below example, the task required confidence ratings of \"high\", \"medium\", and \"low\" to each stimulus, where stimuli could belong to one of two classes (signal, noise). The first three responses correspond to high, medium, and low confidence \"signal\" judgements; the final three correspond to low, medium, and high confidence \"noise\" judgements. The `signal` variable itself therefore contains all of the true positive responses (first three) and all of the false negative responses (final three). The `noise` variable contains all of the false positive (first three) and all of the true negative responses (final three). There is no restriction on the length of these arrays; they just need to be in the correct order."
   ]
  },
  {
   "cell_type": "code",
   "execution_count": 2,
   "id": "2bc1f826-5e84-46a7-a618-4027a8dca4c9",
   "metadata": {},
   "outputs": [],
   "source": [
    "# Strongest \"signal\" to strongest \"noise\" -->\n",
    "signal = [505,248,226,172,144,93]\n",
    "noise = [115,185,304,523,551,397]"
   ]
  },
  {
   "cell_type": "markdown",
   "id": "1e30c88c-7d1d-41e1-9da9-e7f5da13d117",
   "metadata": {},
   "source": [
    "## 2. Instantiate the model\n",
    "There are 3 models defined `HighThreshold`, `SignalDetection`, and `DualProcess`. The `SignalDetection` can be initialised as the standard signal detection model with equal variances for the signal and noise distributions, or instead it can be initialised as the unequal variance signal detection model where the signal distribution variance is an additional parameter in the model, ranging from >= 1."
   ]
  },
  {
   "cell_type": "code",
   "execution_count": 3,
   "id": "97446d7b-63d4-4f4c-b779-22af994b66df",
   "metadata": {},
   "outputs": [],
   "source": [
    "ht = HighThreshold(signal, noise)\n",
    "evsd = SignalDetection(signal, noise, equal_variance=True)\n",
    "uvsd = SignalDetection(signal, noise, equal_variance=False)\n",
    "dpsd = DualProcess(signal, noise)"
   ]
  },
  {
   "cell_type": "markdown",
   "id": "4bcfc027-7ee8-4941-a44b-0e78263964f0",
   "metadata": {},
   "source": [
    "On initialisation we get a few things"
   ]
  },
  {
   "cell_type": "code",
   "execution_count": 4,
   "id": "865cdd35-e301-4560-9c51-8018ff81a006",
   "metadata": {},
   "outputs": [
    {
     "name": "stdout",
     "output_type": "stream",
     "text": [
      "Starting state of all parameters in the model: {'d': 0, 'c0': 0, 'c1': 0, 'c2': 0, 'c3': 0, 'c4': 0}\n",
      "Accumulated counts arrays for signal and noise: [ 505  753  979 1151 1295 1388], [ 115  300  604 1127 1678 2075]\n",
      "The accumulated counts in probability space (proportion signal & noise): [0.3636909  0.54235661 0.70518359 0.82913367 0.93292537], [0.05547527 0.14466924 0.29118497 0.54319204 0.80868658]\n",
      "The z-transformed proportion arrays: [-0.34861041  0.10637254  0.53936818  0.95074732  1.49793835], [-1.59393522 -1.05957395 -0.54992627  0.10847876  0.87306647]\n",
      "The area under the curve for the observed data: 0.7439343243677308\n"
     ]
    }
   ],
   "source": [
    "print(f\"Starting state of all parameters in the model: {evsd.initial_parameters}\")\n",
    "print(f\"Accumulated counts arrays for signal and noise: {evsd.acc_signal}, {evsd.acc_noise}\")\n",
    "print(f\"The accumulated counts in probability space (proportion signal & noise): {evsd.p_signal}, {evsd.p_noise}\")\n",
    "print(f\"The z-transformed proportion arrays: {evsd.z_signal}, {evsd.z_noise}\")\n",
    "print(f\"The area under the curve for the observed data: {evsd.auc}\")"
   ]
  },
  {
   "cell_type": "markdown",
   "id": "01ef9048-205d-4a99-8ae4-6dd65cbca807",
   "metadata": {},
   "source": [
    "## 3. Fitting the models\n",
    "The models have been instantiated but are not yet fitted to the data. We can do this using $G^2$, $\\chi^2$, or the $sse$ approach. It is recommended to use either the `'log-likelihood'` or `'chi'` methods. The legacy methods are pure scipy implementations."
   ]
  },
  {
   "cell_type": "code",
   "execution_count": 5,
   "id": "bb4fbb0d-6ecd-435d-84eb-92d23602925e",
   "metadata": {},
   "outputs": [
    {
     "name": "stdout",
     "output_type": "stream",
     "text": [
      "{'model': 'Equal Variance Signal Detection', 'opt-success': True, 'log-likelihood': 81.23108620009691, 'aic': -64.79662553538728, 'bic': -27.897282268972745, 'euclidean_fit': 0.10630270614413172}\n",
      "{'d': 1.0201477503320475, 'criteria': array([ 0.94589746,  0.47680517,  0.01204214, -0.56213821, -1.28720453])}\n"
     ]
    }
   ],
   "source": [
    "evsd.fit('log-likelihood')\n",
    "print(evsd.results)\n",
    "print(evsd.fitted_parameters)"
   ]
  },
  {
   "cell_type": "code",
   "execution_count": 6,
   "id": "b14aede8-16e3-4e0b-840c-2923947cd0ab",
   "metadata": {},
   "outputs": [
    {
     "name": "stdout",
     "output_type": "stream",
     "text": [
      "{'model': 'Equal Variance Signal Detection', 'opt-success': True, 'chi': 86.04650255112841, 'aic': -63.32723358721506, 'bic': -26.42789032080053, 'euclidean_fit': 0.11175639639965693}\n",
      "{'d': 1.0031833005023736, 'criteria': array([ 0.93581744,  0.47496554,  0.01379012, -0.55634828, -1.2557949 ])}\n"
     ]
    }
   ],
   "source": [
    "evsd.fit('chi')\n",
    "print(evsd.results)\n",
    "print(evsd.fitted_parameters)"
   ]
  },
  {
   "cell_type": "code",
   "execution_count": 7,
   "id": "1740c168-8cea-4cb5-b29b-cab94408c9ea",
   "metadata": {},
   "outputs": [
    {
     "name": "stdout",
     "output_type": "stream",
     "text": [
      "{'model': 'Equal Variance Signal Detection', 'opt-success': True, 'legacy log-likelihood': 81.2310862004739, 'aic': -64.79662944841229, 'bic': -27.897286181997757, 'euclidean_fit': 0.10630271227204524}\n",
      "{'d': 1.0201477995501629, 'criteria': array([ 0.94589751,  0.47680518,  0.01204218, -0.56213823, -1.28720449])}\n"
     ]
    }
   ],
   "source": [
    "evsd.fit('legacy log-likelihood')\n",
    "print(evsd.results)\n",
    "print(evsd.fitted_parameters)"
   ]
  },
  {
   "cell_type": "code",
   "execution_count": 8,
   "id": "eb18ce46-0be6-492a-af31-9ecd262f574e",
   "metadata": {},
   "outputs": [
    {
     "name": "stdout",
     "output_type": "stream",
     "text": [
      "{'model': 'Equal Variance Signal Detection', 'opt-success': True, 'legacy pearson': 86.04650255124663, 'aic': -63.32723420657568, 'bic': -26.42789094016115, 'euclidean_fit': 0.11175639447331752}\n",
      "{'d': 1.0031833109319939, 'criteria': array([ 0.93581744,  0.47496553,  0.01379012, -0.55634829, -1.2557949 ])}\n"
     ]
    }
   ],
   "source": [
    "evsd.fit('legacy pearson')\n",
    "print(evsd.results)\n",
    "print(evsd.fitted_parameters)"
   ]
  },
  {
   "cell_type": "code",
   "execution_count": 9,
   "id": "aea11796-1eec-4529-b2eb-b597200be447",
   "metadata": {},
   "outputs": [
    {
     "name": "stdout",
     "output_type": "stream",
     "text": [
      "{'model': 'Equal Variance Signal Detection', 'opt-success': True, 'sse': 10675.578142610708, 'aic': -80.03261336494319, 'bic': -43.133270098528655, 'euclidean_fit': 0.08906582081110448}\n",
      "{'d': 1.0781338726066931, 'criteria': array([ 0.92352889,  0.47140711,  0.00744258, -0.61995275, -1.39740717])}\n"
     ]
    }
   ],
   "source": [
    "evsd.fit('sse')\n",
    "print(evsd.results)\n",
    "print(evsd.fitted_parameters)"
   ]
  },
  {
   "cell_type": "code",
   "execution_count": 10,
   "id": "22a21072-3058-4c05-8209-e99ba418d0c4",
   "metadata": {},
   "outputs": [
    {
     "data": {
      "text/plain": [
       "{'model': 'Equal Variance Signal Detection',\n",
       " 'opt-success': True,\n",
       " 'sse': 10675.578142610708,\n",
       " 'aic': -80.03261336494319,\n",
       " 'bic': -43.133270098528655,\n",
       " 'euclidean_fit': 0.08906582081110448}"
      ]
     },
     "execution_count": 10,
     "metadata": {},
     "output_type": "execute_result"
    }
   ],
   "source": [
    "evsd.results"
   ]
  },
  {
   "cell_type": "markdown",
   "id": "dd35ec29-884a-4338-85a8-3b2bfc0b54b9",
   "metadata": {},
   "source": [
    "Fit all of the models in a loop:"
   ]
  },
  {
   "cell_type": "code",
   "execution_count": 11,
   "id": "5c5c2895-99c4-4fd0-8542-9e44391c0895",
   "metadata": {},
   "outputs": [],
   "source": [
    "for model in [ht, evsd, uvsd, dpsd]:\n",
    "    model.fit(method='log-likelihood')"
   ]
  },
  {
   "cell_type": "markdown",
   "id": "473e2e9c-3d88-44bc-9c39-8fd0f5b9ca23",
   "metadata": {},
   "source": [
    "## Visualise"
   ]
  },
  {
   "cell_type": "code",
   "execution_count": 12,
   "id": "31ebb0db-f437-44c9-a3df-d3c6c064a943",
   "metadata": {},
   "outputs": [
    {
     "data": {
      "image/png": "[encoded data removed]",
      "text/plain": [
       "<Figure size 900x600 with 1 Axes>"
      ]
     },
     "metadata": {
      "needs_background": "light"
     },
     "output_type": "display_data"
    }
   ],
   "source": [
    "# Plot\n",
    "fig, ax = plt.subplots(dpi=150)\n",
    "\n",
    "# The result from `compute_expected` is a tuple of `expected_noise` and `expected_signal`.\n",
    "# The `.fitted_parameters` attribute can be unpacked into that function for convenience.\n",
    "ax.plot(*ht.compute_expected(**ht.fitted_named_parameters, full=True), label=ht.label)\n",
    "ax.plot(*evsd.compute_expected(**evsd.fitted_named_parameters), label=evsd.label)\n",
    "ax.plot(*uvsd.compute_expected(**uvsd.fitted_named_parameters), label=uvsd.label)\n",
    "ax.plot(*dpsd.compute_expected(**dpsd.fitted_named_parameters), label=dpsd.label)\n",
    "\n",
    "plot_roc(ht.p_signal, ht.p_noise, ax=ax, c='k', zorder=999)\n",
    "\n",
    "ax.legend(loc='lower right')\n",
    "plt.show()"
   ]
  },
  {
   "cell_type": "markdown",
   "id": "52138a1f-7451-4d38-a959-a9811e81fba8",
   "metadata": {},
   "source": [
    "## Comparing\n",
    "We can compare using the statistic that was optimised for, in this case the $G^2$. However we can also view the AIC and BIC scores, both of which account for the number of parameters in the model."
   ]
  },
  {
   "cell_type": "code",
   "execution_count": 13,
   "id": "6e8c8edd-8459-409f-96d7-acbfa9415e95",
   "metadata": {},
   "outputs": [
    {
     "name": "stdout",
     "output_type": "stream",
     "text": [
      "{'HT': 205.34283382645697, 'EVSD': 81.23108620009691, 'UVSD': 3.902024727392697, 'DPSD': 23.17123947088581}\n",
      "{'HT': -29.97962879225225, 'EVSD': -64.79662553538728, 'UVSD': -98.43321886926276, 'DPSD': -76.4583993130579}\n",
      "{'HT': -17.679847703447404, 'EVSD': -27.897282268972745, 'UVSD': -55.3839850584458, 'DPSD': -33.40916550224094}\n"
     ]
    }
   ],
   "source": [
    "# View the AIC scores for each model\n",
    "Gs = {model.label: model.results['log-likelihood'] for model in [ht, evsd, uvsd, dpsd]}\n",
    "AICs = {model.label: model.aic for model in [ht, evsd, uvsd, dpsd]}\n",
    "BICs = {model.label: model.bic for model in [ht, evsd, uvsd, dpsd]}\n",
    "print(Gs, AICs, BICs, sep=\"\\n\")"
   ]
  },
  {
   "cell_type": "markdown",
   "id": "10a0914f-f05b-44de-ace7-bf055bbf4477",
   "metadata": {},
   "source": [
    "From the $G^2$ values, we can also perform a significance test from the comparison, accounting for the degrees of freedom. For example, comparing the equal and unequal variance signal detection models, we can do the following:"
   ]
  },
  {
   "cell_type": "code",
   "execution_count": 48,
   "id": "310fab2b-4e68-43b2-9db9-bf1d977926a6",
   "metadata": {},
   "outputs": [
    {
     "name": "stdout",
     "output_type": "stream",
     "text": [
      "p =  0.0026558448161220316\n"
     ]
    }
   ],
   "source": [
    "# Get the G^2 values and their difference\n",
    "g2diff = evsd.results['log-likelihood'] - uvsd.results['log-likelihood']\n",
    "# Get the difference in the degrees of freedom for each model\n",
    "ddofdiff = evsd.ddof - uvsd.ddof\n",
    "\n",
    "p = stats.chi2.sf(x=g2diff, df=ddofdiff)\n",
    "print(\"p = \", p)"
   ]
  }
 ],
 "metadata": {
  "kernelspec": {
   "display_name": "Python 3 (ipykernel)",
   "language": "python",
   "name": "python3"
  },
  "language_info": {
   "codemirror_mode": {
    "name": "ipython",
    "version": 3
   },
   "file_extension": ".py",
   "mimetype": "text/x-python",
   "name": "python",
   "nbconvert_exporter": "python",
   "pygments_lexer": "ipython3",
   "version": "3.10.4"
  }
 },
 "nbformat": 4,
 "nbformat_minor": 5
}
